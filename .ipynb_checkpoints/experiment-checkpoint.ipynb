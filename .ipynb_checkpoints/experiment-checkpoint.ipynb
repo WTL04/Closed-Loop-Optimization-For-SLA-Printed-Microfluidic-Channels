{
 "cells": [
  {
   "cell_type": "code",
   "execution_count": 42,
   "id": "0a41c650-5805-4bfc-8364-104ef0f47957",
   "metadata": {},
   "outputs": [],
   "source": [
    "import numpy as np\n",
    "import pandas as pd\n",
    "\n",
    "# models\n",
    "from sklearn.gaussian_process import GaussianProcessRegressor\n",
    "\n",
    "# preprocessing\n",
    "from sklearn.preprocessing import StandardScaler\n",
    "from sklearn.preprocessing import OneHotEncoder"
   ]
  },
  {
   "cell_type": "markdown",
   "id": "d2b42c5d-898c-4093-b302-3a1097160674",
   "metadata": {},
   "source": [
    "# Creating Dummy Dataset for Prototyping\n",
    "---\n",
    "Pass if:\n",
    "- flow_metric is between 9 and 11 µL/min\n",
    "- pressure drop is between 85 and 115 Pascals"
   ]
  },
  {
   "cell_type": "code",
   "execution_count": 43,
   "id": "635680b3-2f02-495a-b530-d04822ca35ea",
   "metadata": {
    "scrolled": true
   },
   "outputs": [],
   "source": [
    "data = pd.read_csv('datasets/AI_Simulation_Microfluidic_Dataset.csv')"
   ]
  },
  {
   "cell_type": "code",
   "execution_count": 44,
   "id": "54f418e8-8bc0-4b33-9350-7179a5eb8ad3",
   "metadata": {},
   "outputs": [],
   "source": [
    "enc = OneHotEncoder(handle_unknown='ignore', sparse_output=False)  # or sparse=False for older sklearn\n",
    "X = enc.fit_transform(data[['resin_type']])  # note the double brackets -> 2D\n",
    "oh = pd.DataFrame(X, columns=enc.get_feature_names_out(['resin_type']), index=data.index)\n",
    "\n",
    "# replace the original column\n",
    "data = pd.concat([data.drop(columns=['resin_type']), oh], axis=1)"
   ]
  },
  {
   "cell_type": "markdown",
   "id": "4e6985d2-da8e-4074-8548-ca27b9e1956d",
   "metadata": {},
   "source": [
    "# Data Preprocessing\n",
    "---\n",
    "- turn resin type into one hot vector\n",
    "- standardize all data\n",
    "- split into X and y\n",
    "- split into train and test data"
   ]
  },
  {
   "cell_type": "code",
   "execution_count": 49,
   "id": "51ba9029-c6f1-4aec-9d6c-99f4b6d48ff4",
   "metadata": {},
   "outputs": [],
   "source": [
    "X_all = data.drop(columns=[\"model_id\", \"pass_fail\"])\n",
    "y_all = data['pass_fail']"
   ]
  },
  {
   "cell_type": "code",
   "execution_count": 50,
   "id": "14b3946d-4fbe-4b0d-bd37-074b144317ef",
   "metadata": {},
   "outputs": [
    {
     "data": {
      "text/plain": [
       "array([[-1.08347268,  0.40371399,  1.29502445, ...,  1.81328572,\n",
       "         0.94023284,  0.        ],\n",
       "       [ 0.92295821,  1.26353739,  0.85158838, ..., -0.25109229,\n",
       "        -0.41833237,  0.        ],\n",
       "       [ 0.92295821, -1.90125188,  1.26035057, ..., -1.20833332,\n",
       "        -0.79541789,  0.        ],\n",
       "       ...,\n",
       "       [ 0.92295821,  0.17447885,  0.17823825, ...,  0.3753254 ,\n",
       "        -0.71670735,  0.        ],\n",
       "       [ 0.92295821,  0.11369241, -0.2420216 , ..., -1.31604897,\n",
       "         0.05925458,  0.        ],\n",
       "       [ 0.92295821, -0.98102978, -1.21694676, ...,  0.75172147,\n",
       "         0.27318473,  0.        ]])"
      ]
     },
     "execution_count": 50,
     "metadata": {},
     "output_type": "execute_result"
    }
   ],
   "source": [
    "scaler = StandardScaler()\n",
    "scaler.fit_transform(X_all)"
   ]
  }
 ],
 "metadata": {
  "kernelspec": {
   "display_name": "Python (venv310)",
   "language": "python",
   "name": "venv310"
  },
  "language_info": {
   "codemirror_mode": {
    "name": "ipython",
    "version": 3
   },
   "file_extension": ".py",
   "mimetype": "text/x-python",
   "name": "python",
   "nbconvert_exporter": "python",
   "pygments_lexer": "ipython3",
   "version": "3.10.13"
  }
 },
 "nbformat": 4,
 "nbformat_minor": 5
}
