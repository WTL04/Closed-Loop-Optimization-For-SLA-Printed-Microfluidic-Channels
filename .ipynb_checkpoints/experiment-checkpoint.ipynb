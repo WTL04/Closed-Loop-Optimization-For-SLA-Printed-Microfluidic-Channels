{
 "cells": [
  {
   "cell_type": "code",
   "execution_count": 1,
   "id": "0a41c650-5805-4bfc-8364-104ef0f47957",
   "metadata": {},
   "outputs": [],
   "source": [
    "import numpy as np\n",
    "import pandas as pd"
   ]
  },
  {
   "cell_type": "markdown",
   "id": "d2b42c5d-898c-4093-b302-3a1097160674",
   "metadata": {},
   "source": [
    "# Creating Dummy Dataset for Prototyping\n",
    "---"
   ]
  },
  {
   "cell_type": "code",
   "execution_count": 27,
   "id": "635680b3-2f02-495a-b530-d04822ca35ea",
   "metadata": {},
   "outputs": [],
   "source": [
    "np.random.seed(42)\n",
    "n = 90\n",
    "\n",
    "# randomized data to simiulate experimental dataset\n",
    "data = pd.DataFrame({\n",
    "    'layer_thickness' : np.random.choice([50,], n), # in microns\n",
    "    'exposure_time' : np.random.normal(loc=6, scale=1, size=n),\n",
    "    'resin_temp' : np.random.uniform(20, 30, n), \n",
    "    'resin_age' : np.linspace(12, 36, n), # in hours\n",
    "    'layer_offset' : np.abs(np.random.gamma(shape=2, scale=1, size=n)), # small misalignment\n",
    "    'channel_width' : np.random.uniform(200, 300, n), # in microns\n",
    "})\n",
    "\n",
    "# simulate flow_metric based on some relationships\n",
    "flow_metric = (\n",
    "    1000 # arbitrary high starting point\n",
    "    - 5 * data['layer_thickness'] # high layer thickness -> worse resolution -> smaller or uneven channels -> reduced flow rate\n",
    "    - 10 * data['resin_age'] # older resin -> more inconsistent curing -> narrower/obstructed channels -> reduced flow rate\n",
    "    - 20 * data['layer_offset'] # larger offset -> geometric mismatch -> restricted or interrupted flow -> lower flow\n",
    "    + np.random.normal(0, 30, n) # random natural noise\n",
    ")\n",
    "\n",
    "data['flow_metric'] = flow_metric\n",
    "\n",
    "# pass/fail metric, needs consistent flow of ~550 as an example\n",
    "data['pass/fail'] = ((data['flow_metric'] >= 500) & (data['flow_metric'] < 525)).astype(int)"
   ]
  }
 ],
 "metadata": {
  "kernelspec": {
   "display_name": "Python (venv310)",
   "language": "python",
   "name": "venv310"
  },
  "language_info": {
   "codemirror_mode": {
    "name": "ipython",
    "version": 3
   },
   "file_extension": ".py",
   "mimetype": "text/x-python",
   "name": "python",
   "nbconvert_exporter": "python",
   "pygments_lexer": "ipython3",
   "version": "3.10.13"
  }
 },
 "nbformat": 4,
 "nbformat_minor": 5
}
