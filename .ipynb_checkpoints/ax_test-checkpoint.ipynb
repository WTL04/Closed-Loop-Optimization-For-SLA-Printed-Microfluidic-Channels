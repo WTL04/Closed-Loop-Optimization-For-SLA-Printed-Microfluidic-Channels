{
 "cells": [
  {
   "cell_type": "code",
   "execution_count": 1,
   "id": "863d74d0-71b5-4654-87fa-6ff1c5694d1d",
   "metadata": {},
   "outputs": [],
   "source": [
    "from ax.service.ax_client import AxClient, ObjectiveProperties \n",
    "from ax.utils.measurement.synthetic_functions import hartmann6 # function to optimize\n",
    "from ax.utils.notebook.plotting import init_notebook_plotting, render "
   ]
  },
  {
   "cell_type": "code",
   "execution_count": 2,
   "id": "280b4020-8753-4c85-9fad-04646c07df27",
   "metadata": {},
   "outputs": [
    {
     "name": "stderr",
     "output_type": "stream",
     "text": [
      "[INFO 08-20 00:24:40] ax.generation_strategy.dispatch_utils: Using Generators.BOTORCH_MODULAR since there is at least one ordered parameter and there are no unordered categorical parameters.\n",
      "[INFO 08-20 00:24:40] ax.generation_strategy.dispatch_utils: Using Bayesian Optimization generation strategy: GenerationStrategy(name='Sobol+BoTorch', steps=[Sobol for 12 trials, BoTorch for subsequent trials]). Iterations after 12 will take longer to generate due to model-fitting.\n"
     ]
    }
   ],
   "source": [
    "ax_client = AxClient()\n",
    "\n",
    "# experiment requires a \"search space\" (parameters and parameter constraints) and an \"optimization configuration\" (objective and outcome constraints)\n",
    "ax_client.create_experiment(\n",
    "    name=\"Hartmann6 experiment\",\n",
    "\n",
    "    # search space\n",
    "    parameters=[\n",
    "        {\n",
    "            \"name\": \"x1\",\n",
    "            \"type\": \"range\",\n",
    "            \"bounds\": [0.0, 1.0],\n",
    "            \"value_type\": \"float\",  # Optional, defaults to inference from type of \"bounds\".\n",
    "            \"log_scale\": False,  # Optional, defaults to False.\n",
    "        },\n",
    "        {\n",
    "            \"name\": \"x2\",\n",
    "            \"type\": \"range\",\n",
    "            \"bounds\": [0.0, 1.0],\n",
    "            \"value_type\": \"float\",\n",
    "        },\n",
    "        {\n",
    "            \"name\": \"x3\",\n",
    "            \"type\": \"range\",\n",
    "            \"bounds\": [0.0, 1.0],\n",
    "            \"value_type\": \"float\",\n",
    "        },\n",
    "        {\n",
    "            \"name\": \"x4\",\n",
    "            \"type\": \"range\",\n",
    "            \"bounds\": [0.0, 1.0],\n",
    "            \"value_type\": \"float\",\n",
    "        },\n",
    "        {\n",
    "            \"name\": \"x5\",\n",
    "            \"type\": \"range\",\n",
    "            \"bounds\": [0.0, 1.0],\n",
    "            \"value_type\": \"float\",\n",
    "        },\n",
    "        {\n",
    "            \"name\": \"x6\",\n",
    "            \"type\": \"range\",\n",
    "            \"bounds\": [0.0, 1.0],\n",
    "            \"value_type\": \"float\",\n",
    "        },\n",
    "    ],\n",
    "\n",
    "    #optimization configuration\n",
    "    objectives={\n",
    "        \"hartmann6\" : ObjectiveProperties(minimize=True)\n",
    "    },\n",
    "    parameter_constraints=[\"x1 + x2 <= 2.0\"],  # Optional.\n",
    "    outcome_constraints=[\"l2norm <= 1.25\"],  # Optional.\n",
    ")"
   ]
  },
  {
   "cell_type": "code",
   "execution_count": 3,
   "id": "37f7e0f5-27af-4e12-89ae-356f5c65d779",
   "metadata": {},
   "outputs": [],
   "source": [
    "import numpy as np\n",
    "\n",
    "# dummy evaluation function, returns output of harmann6 and l2norm\n",
    "# takes experiment parameters as input\n",
    "def evaluate(parameterization):\n",
    "    x = np.array([parameterization.get(f\"x{i+1}\") for i in range(6)])\n",
    "\n",
    "    # return mean value and standard error of mean (uncertainity)\n",
    "    return {\"hartmann6\" : (hartmann6(x), 0.0), \"l2norm\" : (np.sqrt((x**2).sum()), 0.0)}"
   ]
  },
  {
   "cell_type": "code",
   "execution_count": null,
   "id": "ba93d9eb-fce8-42fc-85ca-1922aa8550d1",
   "metadata": {},
   "outputs": [
    {
     "name": "stderr",
     "output_type": "stream",
     "text": [
      "[INFO 08-20 00:24:40] ax.service.ax_client: Generated new trial 0 with parameters {'x1': 0.155389, 'x2': 0.240024, 'x3': 0.756256, 'x4': 0.059617, 'x5': 0.785997, 'x6': 0.792401} using model Sobol.\n",
      "[INFO 08-20 00:24:40] ax.service.ax_client: Completed trial 0 with data: {'hartmann6': (-0.385802, 0.0), 'l2norm': (1.379466, 0.0)}.\n",
      "[INFO 08-20 00:24:40] ax.service.ax_client: Generated new trial 1 with parameters {'x1': 0.626774, 'x2': 0.625707, 'x3': 0.205438, 'x4': 0.82324, 'x5': 0.342676, 'x6': 0.153771} using model Sobol.\n",
      "[INFO 08-20 00:24:40] ax.service.ax_client: Completed trial 1 with data: {'hartmann6': (-0.359568, 0.0), 'l2norm': (1.282715, 0.0)}.\n",
      "[INFO 08-20 00:24:40] ax.service.ax_client: Generated new trial 2 with parameters {'x1': 0.789609, 'x2': 0.274704, 'x3': 0.520386, 'x4': 0.391232, 'x5': 0.151348, 'x6': 0.362064} using model Sobol.\n",
      "[INFO 08-20 00:24:40] ax.service.ax_client: Completed trial 2 with data: {'hartmann6': (-0.314972, 0.0), 'l2norm': (1.129958, 0.0)}.\n",
      "[INFO 08-20 00:24:40] ax.service.ax_client: Generated new trial 3 with parameters {'x1': 0.30298, 'x2': 0.855691, 'x3': 0.438317, 'x4': 0.726, 'x5': 0.719486, 'x6': 0.692252} using model Sobol.\n",
      "[INFO 08-20 00:24:40] ax.service.ax_client: Completed trial 3 with data: {'hartmann6': (-0.030741, 0.0), 'l2norm': (1.593761, 0.0)}.\n",
      "[INFO 08-20 00:24:40] ax.service.ax_client: Generated new trial 4 with parameters {'x1': 0.454091, 'x2': 0.38451, 'x3': 0.020358, 'x4': 0.54519, 'x5': 0.537089, 'x6': 0.983277} using model Sobol.\n",
      "[INFO 08-20 00:24:40] ax.service.ax_client: Completed trial 4 with data: {'hartmann6': (-0.161939, 0.0), 'l2norm': (1.380939, 0.0)}.\n",
      "[INFO 08-20 00:24:40] ax.service.ax_client: Generated new trial 5 with parameters {'x1': 0.951363, 'x2': 0.996877, 'x3': 0.93841, 'x4': 0.337608, 'x5': 0.093509, 'x6': 0.086904} using model Sobol.\n",
      "[INFO 08-20 00:24:40] ax.service.ax_client: Completed trial 5 with data: {'hartmann6': (-0.010795, 0.0), 'l2norm': (1.705797, 0.0)}.\n",
      "[INFO 08-20 00:24:40] ax.service.ax_client: Generated new trial 6 with parameters {'x1': 0.601, 'x2': 0.098877, 'x3': 0.256167, 'x4': 0.878744, 'x5': 0.402207, 'x6': 0.428999} using model Sobol.\n",
      "[INFO 08-20 00:24:40] ax.service.ax_client: Completed trial 6 with data: {'hartmann6': (-0.034272, 0.0), 'l2norm': (1.246836, 0.0)}.\n",
      "[INFO 08-20 00:24:40] ax.service.ax_client: Generated new trial 7 with parameters {'x1': 0.118787, 'x2': 0.515923, 'x3': 0.70547, 'x4': 0.23843, 'x5': 0.970605, 'x6': 0.501307} using model Sobol.\n",
      "[INFO 08-20 00:24:40] ax.service.ax_client: Completed trial 7 with data: {'hartmann6': (-0.368634, 0.0), 'l2norm': (1.424151, 0.0)}.\n",
      "[INFO 08-20 00:24:40] ax.service.ax_client: Generated new trial 8 with parameters {'x1': 0.058801, 'x2': 0.322344, 'x3': 0.355839, 'x4': 0.25967, 'x5': 0.294152, 'x6': 0.655294} using model Sobol.\n",
      "[INFO 08-20 00:24:40] ax.service.ax_client: Completed trial 8 with data: {'hartmann6': (-2.639563, 0.0), 'l2norm': (0.904074, 0.0)}.\n",
      "[INFO 08-20 00:24:41] ax.service.ax_client: Generated new trial 9 with parameters {'x1': 0.534154, 'x2': 0.811911, 'x3': 0.68002, 'x4': 0.623128, 'x5': 0.835007, 'x6': 0.290132} using model Sobol.\n",
      "[INFO 08-20 00:24:41] ax.service.ax_client: Completed trial 9 with data: {'hartmann6': (-0.884656, 0.0), 'l2norm': (1.605194, 0.0)}.\n",
      "[INFO 08-20 00:24:41] ax.service.ax_client: Generated new trial 10 with parameters {'x1': 0.88638, 'x2': 0.162688, 'x3': 0.123936, 'x4': 0.160606, 'x5': 0.643618, 'x6': 0.194025} using model Sobol.\n",
      "[INFO 08-20 00:24:41] ax.service.ax_client: Completed trial 10 with data: {'hartmann6': (-0.015839, 0.0), 'l2norm': (1.142445, 0.0)}.\n",
      "[INFO 08-20 00:24:41] ax.service.ax_client: Generated new trial 11 with parameters {'x1': 0.395905, 'x2': 0.706934, 'x3': 0.916867, 'x4': 0.956567, 'x5': 0.227702, 'x6': 0.86006} using model Sobol.\n",
      "[INFO 08-20 00:24:41] ax.service.ax_client: Completed trial 11 with data: {'hartmann6': (-0.293677, 0.0), 'l2norm': (1.789892, 0.0)}.\n",
      "/home/wtl04/coding/snapsend/computer_vision/venv310/lib/python3.10/site-packages/gpytorch/likelihoods/noise_models.py:150: NumericalWarning:\n",
      "\n",
      "Very small noise values detected. This will likely lead to numerical instabilities. Rounding small noise values up to 1e-06.\n",
      "\n",
      "/home/wtl04/coding/snapsend/computer_vision/venv310/lib/python3.10/site-packages/gpytorch/likelihoods/noise_models.py:150: NumericalWarning:\n",
      "\n",
      "Very small noise values detected. This will likely lead to numerical instabilities. Rounding small noise values up to 1e-06.\n",
      "\n",
      "[INFO 08-20 00:24:44] ax.service.ax_client: Generated new trial 12 with parameters {'x1': 0.006929, 'x2': 0.24136, 'x3': 0.296439, 'x4': 0.169111, 'x5': 0.221613, 'x6': 0.637972} using model BoTorch.\n",
      "[INFO 08-20 00:24:44] ax.service.ax_client: Completed trial 12 with data: {'hartmann6': (-2.025387, 0.0), 'l2norm': (0.794291, 0.0)}.\n",
      "/home/wtl04/coding/snapsend/computer_vision/venv310/lib/python3.10/site-packages/gpytorch/likelihoods/noise_models.py:150: NumericalWarning:\n",
      "\n",
      "Very small noise values detected. This will likely lead to numerical instabilities. Rounding small noise values up to 1e-06.\n",
      "\n"
     ]
    }
   ],
   "source": [
    "# optimization loop\n",
    "n = 25\n",
    "for i in range(n):\n",
    "    parameterization, trial_index = ax_client.get_next_trial() # query client for new trial\n",
    "    ax_client.complete_trial(trial_index=trial_index, raw_data=evaluate(parameterization)) # submit evaluation of new trial back to the client"
   ]
  },
  {
   "cell_type": "code",
   "execution_count": null,
   "id": "1fb0d614-9207-406d-985c-f7cee1c25f04",
   "metadata": {},
   "outputs": [],
   "source": [
    "ax_client.get_max_parallelism() # (num of trials, max parallelism)\n",
    "# example [(12, 12), (-1, 3)]: \"the max parallelism is 12 for the first 12 trials and 3 for all subsequent trials\""
   ]
  },
  {
   "cell_type": "code",
   "execution_count": null,
   "id": "d2ac3141-aed9-45cc-b1fa-827ffae7f338",
   "metadata": {},
   "outputs": [],
   "source": [
    "ax_client.get_trials_data_frame()"
   ]
  }
 ],
 "metadata": {
  "kernelspec": {
   "display_name": "Python (venv310)",
   "language": "python",
   "name": "venv310"
  },
  "language_info": {
   "codemirror_mode": {
    "name": "ipython",
    "version": 3
   },
   "file_extension": ".py",
   "mimetype": "text/x-python",
   "name": "python",
   "nbconvert_exporter": "python",
   "pygments_lexer": "ipython3",
   "version": "3.10.13"
  }
 },
 "nbformat": 4,
 "nbformat_minor": 5
}
