{
 "cells": [
  {
   "cell_type": "code",
   "execution_count": 58,
   "id": "0a41c650-5805-4bfc-8364-104ef0f47957",
   "metadata": {},
   "outputs": [],
   "source": [
    "import numpy as np\n",
    "import pandas as pd\n",
    "\n",
    "# models\n",
    "from sklearn.gaussian_process import GaussianProcessClassifier\n",
    "\n",
    "# preprocessing\n",
    "from sklearn.model_selection import train_test_split\n",
    "from sklearn.compose import ColumnTransformer\n",
    "from sklearn.preprocessing import OneHotEncoder, StandardScaler\n",
    "from sklearn.pipeline import Pipeline"
   ]
  },
  {
   "cell_type": "markdown",
   "id": "d2b42c5d-898c-4093-b302-3a1097160674",
   "metadata": {},
   "source": [
    "# Creating Dummy Dataset for Prototyping\n",
    "---\n",
    "Pass if:\n",
    "- flow_metric is between 9 and 11 µL/min\n",
    "- pressure drop is between 85 and 115 Pascals"
   ]
  },
  {
   "cell_type": "code",
   "execution_count": 59,
   "id": "635680b3-2f02-495a-b530-d04822ca35ea",
   "metadata": {
    "scrolled": true
   },
   "outputs": [],
   "source": [
    "data = pd.read_csv('datasets/AI_Simulation_Microfluidic_Dataset.csv')"
   ]
  },
  {
   "cell_type": "code",
   "execution_count": 60,
   "id": "54f418e8-8bc0-4b33-9350-7179a5eb8ad3",
   "metadata": {},
   "outputs": [],
   "source": [
    "# enc = OneHotEncoder(handle_unknown='ignore', sparse_output=False)  # or sparse=False for older sklearn\n",
    "# X = enc.fit_transform(data[['resin_type']])  # note the double brackets -> 2D\n",
    "# oh = pd.DataFrame(X, columns=enc.get_feature_names_out(['resin_type']), index=data.index)\n",
    "\n",
    "# # replace the original column\n",
    "# data = pd.concat([data.drop(columns=['resin_type']), oh], axis=1)"
   ]
  },
  {
   "cell_type": "markdown",
   "id": "4e6985d2-da8e-4074-8548-ca27b9e1956d",
   "metadata": {},
   "source": [
    "# Data Preprocessing\n",
    "---\n",
    "- turn resin type into one hot vector\n",
    "- standardize all data\n",
    "- split into X and y\n",
    "- split into train and test data"
   ]
  },
  {
   "cell_type": "code",
   "execution_count": 64,
   "id": "51ba9029-c6f1-4aec-9d6c-99f4b6d48ff4",
   "metadata": {},
   "outputs": [
    {
     "name": "stdout",
     "output_type": "stream",
     "text": [
      "Train acc: 1.0\n",
      "Test  acc: 0.7\n"
     ]
    }
   ],
   "source": [
    "X_all = data.drop(columns=[\"model_id\", \"pass_fail\"])\n",
    "y_all = data['pass_fail']\n",
    "\n",
    "# identify categorical and numerical features\n",
    "cat_cols = [\"resin_type\"]              # categorical\n",
    "num_cols = [c for c in X_all.columns if c not in cat_cols]  # numeric\n",
    "\n",
    "# split data\n",
    "X_train, X_test, y_train, y_test = train_test_split(\n",
    "    X_all, y_all, test_size=0.2, random_state=42, stratify=y_all\n",
    ")\n",
    "\n",
    "# encode categorical features, standardize numerical features\n",
    "pre = ColumnTransformer(\n",
    "    transformers=[\n",
    "        (\"cat\", OneHotEncoder(handle_unknown=\"ignore\", sparse_output=False), cat_cols),\n",
    "        (\"num\", StandardScaler(), num_cols),\n",
    "    ],\n",
    "    remainder=\"drop\",\n",
    ")"
   ]
  },
  {
   "cell_type": "markdown",
   "id": "8fdb72d2-8537-4283-8008-e27ea50df0a4",
   "metadata": {},
   "source": [
    "# Surrogate Model \n",
    "---"
   ]
  },
  {
   "cell_type": "code",
   "execution_count": 65,
   "id": "2eb7c5e8-97bc-4cdb-8ea7-ad3f7c281a52",
   "metadata": {},
   "outputs": [
    {
     "name": "stdout",
     "output_type": "stream",
     "text": [
      "Train acc: 1.0\n",
      "Test  acc: 0.7\n"
     ]
    }
   ],
   "source": [
    "# End‑to‑end pipeline (example classifier)\n",
    "clf = Pipeline(steps=[\n",
    "    (\"pre\", pre),\n",
    "    (\"model\", GaussianProcessClassifier())\n",
    "])\n",
    "\n",
    "clf.fit(X_train, y_train)\n",
    "print(\"Train acc:\", clf.score(X_train, y_train))\n",
    "print(\"Test  acc:\", clf.score(X_test, y_test))"
   ]
  }
 ],
 "metadata": {
  "kernelspec": {
   "display_name": "Python (venv310)",
   "language": "python",
   "name": "venv310"
  },
  "language_info": {
   "codemirror_mode": {
    "name": "ipython",
    "version": 3
   },
   "file_extension": ".py",
   "mimetype": "text/x-python",
   "name": "python",
   "nbconvert_exporter": "python",
   "pygments_lexer": "ipython3",
   "version": "3.10.13"
  }
 },
 "nbformat": 4,
 "nbformat_minor": 5
}
