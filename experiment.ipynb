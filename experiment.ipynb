{
 "cells": [
  {
   "cell_type": "code",
   "execution_count": 4,
   "id": "0a41c650-5805-4bfc-8364-104ef0f47957",
   "metadata": {},
   "outputs": [],
   "source": [
    "import numpy as np\n",
    "import pandas as pd"
   ]
  },
  {
   "cell_type": "markdown",
   "id": "d2b42c5d-898c-4093-b302-3a1097160674",
   "metadata": {},
   "source": [
    "# Creating Dummy Dataset for Prototyping\n",
    "---\n",
    "Pass if:\n",
    "- flow_metric is between 9 and 11 µL/min\n",
    "- pressure drop is between 85 and 115 Pascals"
   ]
  },
  {
   "cell_type": "code",
   "execution_count": 7,
   "id": "635680b3-2f02-495a-b530-d04822ca35ea",
   "metadata": {},
   "outputs": [],
   "source": [
    "data = pd.read_csv('datasets/AI_Simulation_Microfluidic_Dataset.csv')"
   ]
  },
  {
   "cell_type": "code",
   "execution_count": 8,
   "id": "142d6346-0985-4876-94b3-2a9152d8ba61",
   "metadata": {},
   "outputs": [
    {
     "name": "stdout",
     "output_type": "stream",
     "text": [
      "    model_id  layer_thickness  exposure_time  printer_temp  resin_type  \\\n",
      "0          0               50       6.399748     34.430564  ShapeInk55   \n",
      "1          1              100       7.209848     33.125870  ShapeInk55   \n",
      "2          2              100       4.228079     34.328546  ShapeInk55   \n",
      "3          3              100       3.827319     27.943649  ShapeInk55   \n",
      "4          4               50       7.277835     29.928785  ShapeInk55   \n",
      "..       ...              ...            ...           ...         ...   \n",
      "95        95               50       5.800096     26.131741  ShapeInk55   \n",
      "96        96               50       6.659466     33.764657  ShapeInk55   \n",
      "97        97              100       6.183770     31.144713  ShapeInk55   \n",
      "98        98              100       6.126499     29.908209  ShapeInk55   \n",
      "99        99              100       5.095084     27.039747  ShapeInk55   \n",
      "\n",
      "    resin_temp  resin_age  print_res_X  print_res_Y  layer_offset  \\\n",
      "0    21.592094        0.0    57.643310    18.265006      1.881495   \n",
      "1    20.747945        0.0    63.280236    57.389636      5.275756   \n",
      "2    29.841316        0.0    21.099135    15.606476      6.227355   \n",
      "3    21.741637        0.0    54.140099    45.668261      4.337097   \n",
      "4    26.195882        0.0    95.227584    53.368977      9.220627   \n",
      "..         ...        ...          ...          ...           ...   \n",
      "95   23.538562       72.0    79.087151    31.547935      6.033563   \n",
      "96   27.332565       72.0    18.184826    21.449168      0.263117   \n",
      "97   28.855017       72.0     3.598214    94.408884      0.270403   \n",
      "98   28.260943       72.0    90.108912    14.245661      2.242982   \n",
      "99   26.943387       72.0    43.312549     6.642261      0.613622   \n",
      "\n",
      "    channel_length  channel_width  channel_diameter  channel_circumference  \\\n",
      "0      5303.355739     210.607448        256.732054             624.388785   \n",
      "1      5770.475365     233.905832        219.117642             612.361203   \n",
      "2      7203.962166     243.066537        181.792979             768.083964   \n",
      "3      8069.790076     272.628053        197.060475             796.094216   \n",
      "4      9979.607199     247.642039        217.166358             756.309830   \n",
      "..             ...            ...               ...                    ...   \n",
      "95     8942.400516     270.170508        190.674444             744.903601   \n",
      "96     8683.767492     246.681717        263.225586             722.129731   \n",
      "97     7968.168403     228.977992        261.442929             754.540865   \n",
      "98     9661.725928     239.639323        180.649006             786.138066   \n",
      "99     8198.465075     242.355531        266.646232             822.939299   \n",
      "\n",
      "    flow_metric  pressure_drop  pass_fail  \n",
      "0     10.745513     110.459091          1  \n",
      "1      8.934337      95.412098          0  \n",
      "2      8.094504      91.235631          0  \n",
      "3      8.323694     109.485256          0  \n",
      "4      8.390446     100.458279          0  \n",
      "..          ...            ...        ...  \n",
      "95     8.135495     101.598878          0  \n",
      "96     9.578038     102.609841          1  \n",
      "97     9.483922      92.107402          1  \n",
      "98     8.000000     100.701684          0  \n",
      "99     9.814152     103.071100          1  \n",
      "\n",
      "[100 rows x 17 columns]\n"
     ]
    }
   ],
   "source": [
    "print(data)"
   ]
  }
 ],
 "metadata": {
  "kernelspec": {
   "display_name": "Python (venv310)",
   "language": "python",
   "name": "venv310"
  },
  "language_info": {
   "codemirror_mode": {
    "name": "ipython",
    "version": 3
   },
   "file_extension": ".py",
   "mimetype": "text/x-python",
   "name": "python",
   "nbconvert_exporter": "python",
   "pygments_lexer": "ipython3",
   "version": "3.10.13"
  }
 },
 "nbformat": 4,
 "nbformat_minor": 5
}
